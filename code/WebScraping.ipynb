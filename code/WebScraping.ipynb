{
 "cells": [
  {
   "cell_type": "markdown",
   "id": "9528a711",
   "metadata": {},
   "source": [
    "## Web Scraping \n",
    "\n",
    "https://consult.gov.scot/elections-and-constitutional-development-division/draft-referendum-bill/consultation/view_respondent?uuId=633076343"
   ]
  },
  {
   "cell_type": "markdown",
   "id": "b7f2c257",
   "metadata": {},
   "source": [
    "## Imports"
   ]
  },
  {
   "cell_type": "code",
   "execution_count": 41,
   "id": "6b975174",
   "metadata": {},
   "outputs": [],
   "source": [
    "# import sys\n",
    "# print(sys.executable)\n",
    "#! /opt/homebrew/Cellar/jupyterlab/3.4.8_1/libexec/bin/python3.11 -m pip install pandas"
   ]
  },
  {
   "cell_type": "code",
   "execution_count": 42,
   "id": "dc876716",
   "metadata": {},
   "outputs": [],
   "source": [
    "## Imports\n",
    "import requests\n",
    "from bs4 import BeautifulSoup\n",
    "import pandas as pd"
   ]
  },
  {
   "cell_type": "markdown",
   "id": "5d479216",
   "metadata": {},
   "source": [
    "## Parsing the URL of an answer (from a web-from)"
   ]
  },
  {
   "cell_type": "code",
   "execution_count": 43,
   "id": "35972c61",
   "metadata": {},
   "outputs": [],
   "source": [
    "# URL of the webpage\n",
    "url = 'https://consult.gov.scot/elections-and-constitutional-development-division/draft-referendum-bill/consultation/view_respondent?uuId=633076343'\n",
    "\n",
    "# Send a GET request to the webpage\n",
    "response = requests.get(url)\n",
    "\n",
    "# Create a BeautifulSoup object to parse the HTML content\n",
    "soup = BeautifulSoup(response.content, 'html.parser')\n",
    "\n",
    "#print(soup)"
   ]
  },
  {
   "cell_type": "markdown",
   "id": "5c13d19f",
   "metadata": {},
   "source": [
    "## Finding the Questions"
   ]
  },
  {
   "cell_type": "code",
   "execution_count": 44,
   "id": "14beb352",
   "metadata": {},
   "outputs": [
    {
     "name": "stdout",
     "output_type": "stream",
     "text": [
      "['What is your name?', 'Are you responding as an individual or an organisation?', 'The Scottish Government would like your permission to publish your consultation response Please indicate your publishing preference:', 'What are your views on the proposed arrangements for managing the referendum?', 'What are your views on the proposed technical changes to polling and count arrangements?']\n"
     ]
    }
   ],
   "source": [
    "#question_elements = soup.find_all('div', class_= \"cs-question-padding\")\n",
    "# Find the question and answer elements using appropriate HTML tags and class names\n",
    "question_elements = soup.find_all('h3', class_= \"dss-heading-x-small dss-heading-bold\")\n",
    "#print(question_elements)\n",
    "\n",
    "questions=[]\n",
    "for row in question_elements:\n",
    "    questions.append(row.get_text().strip())\n",
    "for i in range(0, len(questions)):\n",
    "    q= questions[i].strip().replace(\"\\n                                                \",\"\")                                          \n",
    "    char_str = '' .join((z for z in q if not z.isdigit()))\n",
    "    questions[i]=char_str.replace(\".\",\"\")\n",
    "    \n",
    "    \n",
    "print(questions)"
   ]
  },
  {
   "cell_type": "markdown",
   "id": "4e085079",
   "metadata": {},
   "source": [
    "## Finding the Answers"
   ]
  },
  {
   "cell_type": "code",
   "execution_count": 45,
   "id": "5c0f7e56",
   "metadata": {},
   "outputs": [],
   "source": [
    "answer_elements = soup.find_all('div', class_= \"cs-question-padding\")\n",
    "#print(answer_elements)\n",
    "\n"
   ]
  },
  {
   "cell_type": "markdown",
   "id": "2ebd3624",
   "metadata": {},
   "source": [
    "### 1. Name"
   ]
  },
  {
   "cell_type": "code",
   "execution_count": 46,
   "id": "7377cfa9",
   "metadata": {},
   "outputs": [
    {
     "name": "stdout",
     "output_type": "stream",
     "text": [
      "['Fiona Smith']\n"
     ]
    }
   ],
   "source": [
    "answers=[]\n",
    "answer_elements = soup.find_all('div', class_= \"cs-fake-text-input\")\n",
    "answers.append(answer_elements[0].get_text().strip())\n",
    "print(answers)"
   ]
  },
  {
   "cell_type": "markdown",
   "id": "a0f70fc6",
   "metadata": {},
   "source": [
    "### 2 & 3. Radio Buttons: Indiviual/Organization;  Publish info Answers "
   ]
  },
  {
   "cell_type": "code",
   "execution_count": 47,
   "id": "9c17ca5a",
   "metadata": {},
   "outputs": [],
   "source": [
    "radio_answer_elements = soup.find_all('span', class_= \"sr-only\")\n",
    "#print(radio_answer_elements[3:])"
   ]
  },
  {
   "cell_type": "code",
   "execution_count": 48,
   "id": "752d6e0d",
   "metadata": {},
   "outputs": [
    {
     "name": "stdout",
     "output_type": "stream",
     "text": [
      "['Fiona Smith', 'Individual', 'Publish response with name']\n"
     ]
    }
   ],
   "source": [
    "radio_answers=[]\n",
    "for row in range(3, len(radio_answer_elements)):\n",
    "    if \"Ticked\" in radio_answer_elements[row].get_text().strip():\n",
    "        radio_answers.append(row-2)\n",
    "#print(radio_answers)\n",
    "radio_possible_answers={}\n",
    "radio_possible_answers[1]=\"Individual\"\n",
    "radio_possible_answers[2]=\"Organisation\"\n",
    "radio_possible_answers[3]=\"Publish response with name\"\n",
    "radio_possible_answers[4]=\"Publish response only (without name)\"\n",
    "radio_possible_answers[5]=\"Do not publish response\"\n",
    "for i in radio_answers:\n",
    "    answers.append(radio_possible_answers[i])\n",
    "print(answers)"
   ]
  },
  {
   "cell_type": "markdown",
   "id": "9fc9b91f",
   "metadata": {},
   "source": [
    "### 4 & 5. Views"
   ]
  },
  {
   "cell_type": "code",
   "execution_count": 49,
   "id": "ccfc7487",
   "metadata": {},
   "outputs": [
    {
     "name": "stdout",
     "output_type": "stream",
     "text": [
      "['Fiona Smith', 'Individual', 'Publish response with name', 'I have confidence in the polling arrangements and therefore am happy for them to contiinue . However, more scrutiny within the polling stations  woul alleviate the fears of others. Also more checks should be done that people voting are actually resident and not using family addresses.', 'The  improvements seem sensible.']\n"
     ]
    }
   ],
   "source": [
    "answers_elements = soup.find_all('div', class_= \"cs-fake-textarea-input cs-fake-textarea-input-height-10\")\n",
    "#print(answers_elements)\n",
    "\n",
    "answers_tmp=[]\n",
    "for row in answers_elements:\n",
    "    answers.append(row.get_text().strip())\n",
    "\n",
    "print(answers)"
   ]
  },
  {
   "cell_type": "code",
   "execution_count": 50,
   "id": "01e14406",
   "metadata": {},
   "outputs": [
    {
     "name": "stdout",
     "output_type": "stream",
     "text": [
      "['What is your name?', 'Are you responding as an individual or an organisation?', 'The Scottish Government would like your permission to publish your consultation response Please indicate your publishing preference:', 'What are your views on the proposed arrangements for managing the referendum?', 'What are your views on the proposed technical changes to polling and count arrangements?']\n"
     ]
    }
   ],
   "source": [
    "print(questions)"
   ]
  },
  {
   "cell_type": "markdown",
   "id": "8ee4a6e9",
   "metadata": {},
   "source": [
    "## Creating a dataframe with the questions and answers"
   ]
  },
  {
   "cell_type": "code",
   "execution_count": 51,
   "id": "5b5b7eed",
   "metadata": {},
   "outputs": [
    {
     "data": {
      "text/html": [
       "<div>\n",
       "<style scoped>\n",
       "    .dataframe tbody tr th:only-of-type {\n",
       "        vertical-align: middle;\n",
       "    }\n",
       "\n",
       "    .dataframe tbody tr th {\n",
       "        vertical-align: top;\n",
       "    }\n",
       "\n",
       "    .dataframe thead th {\n",
       "        text-align: right;\n",
       "    }\n",
       "</style>\n",
       "<table border=\"1\" class=\"dataframe\">\n",
       "  <thead>\n",
       "    <tr style=\"text-align: right;\">\n",
       "      <th></th>\n",
       "      <th>What is your name?</th>\n",
       "      <th>Are you responding as an individual or an organisation?</th>\n",
       "      <th>The Scottish Government would like your permission to publish your consultation response Please indicate your publishing preference:</th>\n",
       "      <th>What are your views on the proposed arrangements for managing the referendum?</th>\n",
       "      <th>What are your views on the proposed technical changes to polling and count arrangements?</th>\n",
       "    </tr>\n",
       "  </thead>\n",
       "  <tbody>\n",
       "    <tr>\n",
       "      <th>0</th>\n",
       "      <td>Fiona Smith</td>\n",
       "      <td>Individual</td>\n",
       "      <td>Publish response with name</td>\n",
       "      <td>I have confidence in the polling arrangements ...</td>\n",
       "      <td>The  improvements seem sensible.</td>\n",
       "    </tr>\n",
       "  </tbody>\n",
       "</table>\n",
       "</div>"
      ],
      "text/plain": [
       "  What is your name? Are you responding as an individual or an organisation?   \n",
       "0        Fiona Smith                                         Individual       \\\n",
       "\n",
       "  The Scottish Government would like your permission to publish your consultation response Please indicate your publishing preference:   \n",
       "0                         Publish response with name                                                                                    \\\n",
       "\n",
       "  What are your views on the proposed arrangements for managing the referendum?   \n",
       "0  I have confidence in the polling arrangements ...                             \\\n",
       "\n",
       "  What are your views on the proposed technical changes to polling and count arrangements?  \n",
       "0                   The  improvements seem sensible.                                        "
      ]
     },
     "execution_count": 51,
     "metadata": {},
     "output_type": "execute_result"
    }
   ],
   "source": [
    "# Create the DataFrame\n",
    "df = pd.DataFrame([answers], columns=questions)\n",
    "\n",
    "# Print the DataFrame\n",
    "df"
   ]
  }
 ],
 "metadata": {
  "kernelspec": {
   "display_name": "Python 3 (ipykernel)",
   "language": "python",
   "name": "python3"
  },
  "language_info": {
   "codemirror_mode": {
    "name": "ipython",
    "version": 3
   },
   "file_extension": ".py",
   "mimetype": "text/x-python",
   "name": "python",
   "nbconvert_exporter": "python",
   "pygments_lexer": "ipython3",
   "version": "3.11.1"
  }
 },
 "nbformat": 4,
 "nbformat_minor": 5
}
