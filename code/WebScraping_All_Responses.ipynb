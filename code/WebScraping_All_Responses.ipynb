{
 "cells": [
  {
   "cell_type": "markdown",
   "id": "9528a711",
   "metadata": {},
   "source": [
    "## Web Scraping \n",
    "\n",
    "https://consult.gov.scot/elections-and-constitutional-development-division/draft-referendum-bill/consultation/published_select_respondent"
   ]
  },
  {
   "cell_type": "markdown",
   "id": "b7f2c257",
   "metadata": {},
   "source": [
    "## Imports"
   ]
  },
  {
   "cell_type": "code",
   "execution_count": 17,
   "id": "6b975174",
   "metadata": {},
   "outputs": [],
   "source": [
    "# import sys\n",
    "# print(sys.executable)\n",
    "#! /opt/homebrew/Cellar/jupyterlab/3.4.8_1/libexec/bin/python3.11 -m pip install pandas"
   ]
  },
  {
   "cell_type": "code",
   "execution_count": 18,
   "id": "dc876716",
   "metadata": {},
   "outputs": [],
   "source": [
    "## Imports\n",
    "import requests\n",
    "from bs4 import BeautifulSoup\n",
    "import pandas as pd"
   ]
  },
  {
   "cell_type": "markdown",
   "id": "626b8097",
   "metadata": {},
   "source": [
    "## Reading the file with the responses URLS"
   ]
  },
  {
   "cell_type": "code",
   "execution_count": 19,
   "id": "7f6f723f",
   "metadata": {},
   "outputs": [
    {
     "data": {
      "text/plain": [
       "6806"
      ]
     },
     "execution_count": 19,
     "metadata": {},
     "output_type": "execute_result"
    }
   ],
   "source": [
    "url_r_list = [line.strip() for line in open(\"../dataset/url_responses_list.txt\", 'r')]\n",
    "len(url_r_list)"
   ]
  },
  {
   "cell_type": "markdown",
   "id": "5d479216",
   "metadata": {},
   "source": [
    "## Parsing the first URL of to get all the questions"
   ]
  },
  {
   "cell_type": "code",
   "execution_count": 20,
   "id": "fa3ba5ea",
   "metadata": {},
   "outputs": [],
   "source": [
    "radio_possible_answers={}\n",
    "radio_possible_answers[1]=\"Individual\"\n",
    "radio_possible_answers[2]=\"Organisation\"\n",
    "radio_possible_answers[3]=\"Publish response with name\"\n",
    "radio_possible_answers[4]=\"Publish response only (without name)\"\n",
    "radio_possible_answers[5]=\"Do not publish response\"\n"
   ]
  },
  {
   "cell_type": "code",
   "execution_count": 21,
   "id": "16bb22d7",
   "metadata": {},
   "outputs": [],
   "source": [
    "questions_total=['What is your name?','Are you responding as an individual or an organisation?',\n",
    " 'The Scottish Government would like your permission to publish your consultation response Please indicate your publishing preference:',\n",
    " 'What are your views on the proposed arrangements for managing the referendum?',\n",
    " 'What are your views on the proposed technical changes to polling and count arrangements?',\n",
    " 'What are your views on the proposed changes to rules on permissible participants?']"
   ]
  },
  {
   "cell_type": "code",
   "execution_count": 22,
   "id": "35972c61",
   "metadata": {},
   "outputs": [],
   "source": [
    "# URL of the webpage\n",
    "responses_id=[]\n",
    "answers_total=[]\n",
    "for i in range(0, 100):\n",
    "    url = url_r_list[i]\n",
    "    response = requests.get(url)\n",
    "    soup = BeautifulSoup(response.content, 'html.parser')\n",
    "    # Find the question and answer elements using appropriate HTML tags and class names\n",
    "    question_elements = soup.find_all('h3', class_= \"dss-heading-x-small dss-heading-bold\")\n",
    "\n",
    "\n",
    "    question_elements = soup.find_all('h3', class_= \"dss-heading-x-small dss-heading-bold\")\n",
    "    #print(question_elements)\n",
    "\n",
    "    questions=[]\n",
    "    for row in question_elements:\n",
    "        questions.append(row.get_text().strip())\n",
    "    for i in range(0, len(questions)):\n",
    "        q= questions[i].strip().replace(\"\\n                                                \",\"\")                                          \n",
    "        char_str = '' .join((z for z in q if not z.isdigit()))\n",
    "        questions[i]=char_str.replace(\".\",\"\")\n",
    "    \n",
    "    \n",
    "    no_answers=[]\n",
    "    for q in range(0, len(questions_total)):\n",
    "        if questions_total[q] not in questions:\n",
    "            no_answers.append(q)\n",
    "    #print(\"No_answers %s\" % no_answers)\n",
    "    \n",
    "    # response id\n",
    "    li = soup.find('div', class_= \"dss-easy-reading\")\n",
    "    child = li.findChildren(\"h2\" , recursive=False)\n",
    "    respond_id=child[0].get_text().split(\"Response \")[1]\n",
    "    responses_id.append(respond_id)\n",
    "    \n",
    "    # answers\n",
    "    answer_elements = soup.find_all('div', class_= \"cs-question-padding\")\n",
    "\n",
    "    #1. answer.name \n",
    "    answers=[]\n",
    "    answer_elements = soup.find_all('div', class_= \"cs-fake-text-input\")\n",
    "    try:\n",
    "        answers.append(answer_elements[0].get_text().strip())\n",
    "    except:\n",
    "        answers.append('No Name')\n",
    "    #print(answers)\n",
    "    \n",
    "    #2. Radio Buttons: Indiviual/Organization; Publish info Answers\n",
    "    radio_answer_elements = soup.find_all('span', class_= \"sr-only\")\n",
    "\n",
    "    radio_answers=[]\n",
    "    for row in range(3, len(radio_answer_elements)):\n",
    "        if \"Ticked\" in radio_answer_elements[row].get_text().strip():\n",
    "            radio_answers.append(row-2)\n",
    "\n",
    "    for i in radio_answers:\n",
    "         answers.append(radio_possible_answers[i])\n",
    "            \n",
    "    # 4.5 Views    \n",
    "    answers_elements = soup.find_all('div', class_= \"cs-fake-textarea-input cs-fake-textarea-input-height-10\")\n",
    "    answers_tmp=[]\n",
    "    for row in answers_elements:\n",
    "        answers.append(row.get_text().strip())\n",
    "    \n",
    "  \n",
    "    answers_final=[]\n",
    "\n",
    "    a=0\n",
    "    for k in range(0,5):\n",
    "    \n",
    "        if k in no_answers:\n",
    "            answers_final.append(\"No Answered\")\n",
    "        else:\n",
    "            #print(a)\n",
    "            answers_final.append(answers[a])\n",
    "            a=a+1\n",
    "            \n",
    "    \n",
    "        \n",
    "    answers_r=[respond_id] + answers_final\n",
    "    answers_total.append(answers_r)\n",
    "\n",
    "\n",
    "\n",
    "    \n",
    "    \n"
   ]
  },
  {
   "cell_type": "code",
   "execution_count": 23,
   "id": "f9dc40fe",
   "metadata": {},
   "outputs": [
    {
     "data": {
      "text/plain": [
       "['What is your name?',\n",
       " 'Are you responding as an individual or an organisation?',\n",
       " 'The Scottish Government would like your permission to publish your consultation response Please indicate your publishing preference:',\n",
       " 'What are your views on the proposed arrangements for managing the referendum?',\n",
       " 'What are your views on the proposed technical changes to polling and count arrangements?',\n",
       " 'What are your views on the proposed changes to rules on permissible participants?']"
      ]
     },
     "execution_count": 23,
     "metadata": {},
     "output_type": "execute_result"
    }
   ],
   "source": [
    "questions_total"
   ]
  },
  {
   "cell_type": "code",
   "execution_count": 24,
   "id": "a3c429d0",
   "metadata": {},
   "outputs": [
    {
     "name": "stdout",
     "output_type": "stream",
     "text": [
      "7\n"
     ]
    }
   ],
   "source": [
    "header=[\"id\"] + questions_total\n",
    "print(len(header))"
   ]
  },
  {
   "cell_type": "code",
   "execution_count": 27,
   "id": "a4507189",
   "metadata": {},
   "outputs": [
    {
     "data": {
      "text/plain": [
       "['633076343',\n",
       " 'Fiona Smith',\n",
       " 'Individual',\n",
       " 'Publish response with name',\n",
       " 'I have confidence in the polling arrangements and therefore am happy for them to contiinue . However, more scrutiny within the polling stations  woul alleviate the fears of others. Also more checks should be done that people voting are actually resident and not using family addresses.',\n",
       " 'The  improvements seem sensible.']"
      ]
     },
     "execution_count": 27,
     "metadata": {},
     "output_type": "execute_result"
    }
   ],
   "source": [
    "answers_total[0]"
   ]
  },
  {
   "cell_type": "code",
   "execution_count": 25,
   "id": "5ae4015e",
   "metadata": {},
   "outputs": [
    {
     "name": "stdout",
     "output_type": "stream",
     "text": [
      "0 6\n",
      "1 6\n",
      "2 6\n",
      "3 6\n",
      "4 6\n",
      "5 6\n",
      "6 6\n",
      "7 6\n",
      "8 6\n",
      "9 6\n",
      "10 6\n",
      "11 6\n",
      "12 6\n",
      "13 6\n",
      "14 6\n",
      "15 6\n",
      "16 6\n",
      "17 6\n",
      "18 6\n",
      "19 6\n",
      "20 6\n",
      "21 6\n",
      "22 6\n",
      "23 6\n",
      "24 6\n",
      "25 6\n",
      "26 6\n",
      "27 6\n",
      "28 6\n",
      "29 6\n",
      "30 6\n",
      "31 6\n",
      "32 6\n",
      "33 6\n",
      "34 6\n",
      "35 6\n",
      "36 6\n",
      "37 6\n",
      "38 6\n",
      "39 6\n",
      "40 6\n",
      "41 6\n",
      "42 6\n",
      "43 6\n",
      "44 6\n",
      "45 6\n",
      "46 6\n",
      "47 6\n",
      "48 6\n",
      "49 6\n",
      "50 6\n",
      "51 6\n",
      "52 6\n",
      "53 6\n",
      "54 6\n",
      "55 6\n",
      "56 6\n",
      "57 6\n",
      "58 6\n",
      "59 6\n",
      "60 6\n",
      "61 6\n",
      "62 6\n",
      "63 6\n",
      "64 6\n",
      "65 6\n",
      "66 6\n",
      "67 6\n",
      "68 6\n",
      "69 6\n",
      "70 6\n",
      "71 6\n",
      "72 6\n",
      "73 6\n",
      "74 6\n",
      "75 6\n",
      "76 6\n",
      "77 6\n",
      "78 6\n",
      "79 6\n",
      "80 6\n",
      "81 6\n",
      "82 6\n",
      "83 6\n",
      "84 6\n",
      "85 6\n",
      "86 6\n",
      "87 6\n",
      "88 6\n",
      "89 6\n",
      "90 6\n",
      "91 6\n",
      "92 6\n",
      "93 6\n",
      "94 6\n",
      "95 6\n",
      "96 6\n",
      "97 6\n",
      "98 6\n",
      "99 6\n"
     ]
    }
   ],
   "source": [
    "for i in range(0, len(answers_total)):\n",
    "    print(i, len(answers_total[i]))"
   ]
  },
  {
   "cell_type": "markdown",
   "id": "8ee4a6e9",
   "metadata": {},
   "source": [
    "## Creating a dataframe with the questions and answers"
   ]
  },
  {
   "cell_type": "code",
   "execution_count": 26,
   "id": "5b5b7eed",
   "metadata": {},
   "outputs": [
    {
     "ename": "ValueError",
     "evalue": "7 columns passed, passed data had 6 columns",
     "output_type": "error",
     "traceback": [
      "\u001b[0;31m---------------------------------------------------------------------------\u001b[0m",
      "\u001b[0;31mAssertionError\u001b[0m                            Traceback (most recent call last)",
      "File \u001b[0;32m/opt/homebrew/Cellar/jupyterlab/3.4.8_1/libexec/lib/python3.11/site-packages/pandas/core/internals/construction.py:934\u001b[0m, in \u001b[0;36m_finalize_columns_and_data\u001b[0;34m(content, columns, dtype)\u001b[0m\n\u001b[1;32m    933\u001b[0m \u001b[38;5;28;01mtry\u001b[39;00m:\n\u001b[0;32m--> 934\u001b[0m     columns \u001b[38;5;241m=\u001b[39m \u001b[43m_validate_or_indexify_columns\u001b[49m\u001b[43m(\u001b[49m\u001b[43mcontents\u001b[49m\u001b[43m,\u001b[49m\u001b[43m \u001b[49m\u001b[43mcolumns\u001b[49m\u001b[43m)\u001b[49m\n\u001b[1;32m    935\u001b[0m \u001b[38;5;28;01mexcept\u001b[39;00m \u001b[38;5;167;01mAssertionError\u001b[39;00m \u001b[38;5;28;01mas\u001b[39;00m err:\n\u001b[1;32m    936\u001b[0m     \u001b[38;5;66;03m# GH#26429 do not raise user-facing AssertionError\u001b[39;00m\n",
      "File \u001b[0;32m/opt/homebrew/Cellar/jupyterlab/3.4.8_1/libexec/lib/python3.11/site-packages/pandas/core/internals/construction.py:981\u001b[0m, in \u001b[0;36m_validate_or_indexify_columns\u001b[0;34m(content, columns)\u001b[0m\n\u001b[1;32m    979\u001b[0m \u001b[38;5;28;01mif\u001b[39;00m \u001b[38;5;129;01mnot\u001b[39;00m is_mi_list \u001b[38;5;129;01mand\u001b[39;00m \u001b[38;5;28mlen\u001b[39m(columns) \u001b[38;5;241m!=\u001b[39m \u001b[38;5;28mlen\u001b[39m(content):  \u001b[38;5;66;03m# pragma: no cover\u001b[39;00m\n\u001b[1;32m    980\u001b[0m     \u001b[38;5;66;03m# caller's responsibility to check for this...\u001b[39;00m\n\u001b[0;32m--> 981\u001b[0m     \u001b[38;5;28;01mraise\u001b[39;00m \u001b[38;5;167;01mAssertionError\u001b[39;00m(\n\u001b[1;32m    982\u001b[0m         \u001b[38;5;124mf\u001b[39m\u001b[38;5;124m\"\u001b[39m\u001b[38;5;132;01m{\u001b[39;00m\u001b[38;5;28mlen\u001b[39m(columns)\u001b[38;5;132;01m}\u001b[39;00m\u001b[38;5;124m columns passed, passed data had \u001b[39m\u001b[38;5;124m\"\u001b[39m\n\u001b[1;32m    983\u001b[0m         \u001b[38;5;124mf\u001b[39m\u001b[38;5;124m\"\u001b[39m\u001b[38;5;132;01m{\u001b[39;00m\u001b[38;5;28mlen\u001b[39m(content)\u001b[38;5;132;01m}\u001b[39;00m\u001b[38;5;124m columns\u001b[39m\u001b[38;5;124m\"\u001b[39m\n\u001b[1;32m    984\u001b[0m     )\n\u001b[1;32m    985\u001b[0m \u001b[38;5;28;01mif\u001b[39;00m is_mi_list:\n\u001b[1;32m    986\u001b[0m     \u001b[38;5;66;03m# check if nested list column, length of each sub-list should be equal\u001b[39;00m\n",
      "\u001b[0;31mAssertionError\u001b[0m: 7 columns passed, passed data had 6 columns",
      "\nThe above exception was the direct cause of the following exception:\n",
      "\u001b[0;31mValueError\u001b[0m                                Traceback (most recent call last)",
      "Cell \u001b[0;32mIn[26], line 2\u001b[0m\n\u001b[1;32m      1\u001b[0m \u001b[38;5;66;03m# Create the DataFrame\u001b[39;00m\n\u001b[0;32m----> 2\u001b[0m df \u001b[38;5;241m=\u001b[39m \u001b[43mpd\u001b[49m\u001b[38;5;241;43m.\u001b[39;49m\u001b[43mDataFrame\u001b[49m\u001b[43m(\u001b[49m\u001b[43manswers_total\u001b[49m\u001b[43m,\u001b[49m\u001b[43m \u001b[49m\u001b[43mcolumns\u001b[49m\u001b[38;5;241;43m=\u001b[39;49m\u001b[43mheader\u001b[49m\u001b[43m)\u001b[49m\n\u001b[1;32m      4\u001b[0m \u001b[38;5;66;03m# Print the DataFrame\u001b[39;00m\n\u001b[1;32m      5\u001b[0m df\n",
      "File \u001b[0;32m/opt/homebrew/Cellar/jupyterlab/3.4.8_1/libexec/lib/python3.11/site-packages/pandas/core/frame.py:782\u001b[0m, in \u001b[0;36mDataFrame.__init__\u001b[0;34m(self, data, index, columns, dtype, copy)\u001b[0m\n\u001b[1;32m    780\u001b[0m     \u001b[38;5;28;01mif\u001b[39;00m columns \u001b[38;5;129;01mis\u001b[39;00m \u001b[38;5;129;01mnot\u001b[39;00m \u001b[38;5;28;01mNone\u001b[39;00m:\n\u001b[1;32m    781\u001b[0m         columns \u001b[38;5;241m=\u001b[39m ensure_index(columns)\n\u001b[0;32m--> 782\u001b[0m     arrays, columns, index \u001b[38;5;241m=\u001b[39m \u001b[43mnested_data_to_arrays\u001b[49m\u001b[43m(\u001b[49m\n\u001b[1;32m    783\u001b[0m \u001b[43m        \u001b[49m\u001b[38;5;66;43;03m# error: Argument 3 to \"nested_data_to_arrays\" has incompatible\u001b[39;49;00m\n\u001b[1;32m    784\u001b[0m \u001b[43m        \u001b[49m\u001b[38;5;66;43;03m# type \"Optional[Collection[Any]]\"; expected \"Optional[Index]\"\u001b[39;49;00m\n\u001b[1;32m    785\u001b[0m \u001b[43m        \u001b[49m\u001b[43mdata\u001b[49m\u001b[43m,\u001b[49m\n\u001b[1;32m    786\u001b[0m \u001b[43m        \u001b[49m\u001b[43mcolumns\u001b[49m\u001b[43m,\u001b[49m\n\u001b[1;32m    787\u001b[0m \u001b[43m        \u001b[49m\u001b[43mindex\u001b[49m\u001b[43m,\u001b[49m\u001b[43m  \u001b[49m\u001b[38;5;66;43;03m# type: ignore[arg-type]\u001b[39;49;00m\n\u001b[1;32m    788\u001b[0m \u001b[43m        \u001b[49m\u001b[43mdtype\u001b[49m\u001b[43m,\u001b[49m\n\u001b[1;32m    789\u001b[0m \u001b[43m    \u001b[49m\u001b[43m)\u001b[49m\n\u001b[1;32m    790\u001b[0m     mgr \u001b[38;5;241m=\u001b[39m arrays_to_mgr(\n\u001b[1;32m    791\u001b[0m         arrays,\n\u001b[1;32m    792\u001b[0m         columns,\n\u001b[0;32m   (...)\u001b[0m\n\u001b[1;32m    795\u001b[0m         typ\u001b[38;5;241m=\u001b[39mmanager,\n\u001b[1;32m    796\u001b[0m     )\n\u001b[1;32m    797\u001b[0m \u001b[38;5;28;01melse\u001b[39;00m:\n",
      "File \u001b[0;32m/opt/homebrew/Cellar/jupyterlab/3.4.8_1/libexec/lib/python3.11/site-packages/pandas/core/internals/construction.py:498\u001b[0m, in \u001b[0;36mnested_data_to_arrays\u001b[0;34m(data, columns, index, dtype)\u001b[0m\n\u001b[1;32m    495\u001b[0m \u001b[38;5;28;01mif\u001b[39;00m is_named_tuple(data[\u001b[38;5;241m0\u001b[39m]) \u001b[38;5;129;01mand\u001b[39;00m columns \u001b[38;5;129;01mis\u001b[39;00m \u001b[38;5;28;01mNone\u001b[39;00m:\n\u001b[1;32m    496\u001b[0m     columns \u001b[38;5;241m=\u001b[39m ensure_index(data[\u001b[38;5;241m0\u001b[39m]\u001b[38;5;241m.\u001b[39m_fields)\n\u001b[0;32m--> 498\u001b[0m arrays, columns \u001b[38;5;241m=\u001b[39m \u001b[43mto_arrays\u001b[49m\u001b[43m(\u001b[49m\u001b[43mdata\u001b[49m\u001b[43m,\u001b[49m\u001b[43m \u001b[49m\u001b[43mcolumns\u001b[49m\u001b[43m,\u001b[49m\u001b[43m \u001b[49m\u001b[43mdtype\u001b[49m\u001b[38;5;241;43m=\u001b[39;49m\u001b[43mdtype\u001b[49m\u001b[43m)\u001b[49m\n\u001b[1;32m    499\u001b[0m columns \u001b[38;5;241m=\u001b[39m ensure_index(columns)\n\u001b[1;32m    501\u001b[0m \u001b[38;5;28;01mif\u001b[39;00m index \u001b[38;5;129;01mis\u001b[39;00m \u001b[38;5;28;01mNone\u001b[39;00m:\n",
      "File \u001b[0;32m/opt/homebrew/Cellar/jupyterlab/3.4.8_1/libexec/lib/python3.11/site-packages/pandas/core/internals/construction.py:840\u001b[0m, in \u001b[0;36mto_arrays\u001b[0;34m(data, columns, dtype)\u001b[0m\n\u001b[1;32m    837\u001b[0m     data \u001b[38;5;241m=\u001b[39m [\u001b[38;5;28mtuple\u001b[39m(x) \u001b[38;5;28;01mfor\u001b[39;00m x \u001b[38;5;129;01min\u001b[39;00m data]\n\u001b[1;32m    838\u001b[0m     arr \u001b[38;5;241m=\u001b[39m _list_to_arrays(data)\n\u001b[0;32m--> 840\u001b[0m content, columns \u001b[38;5;241m=\u001b[39m \u001b[43m_finalize_columns_and_data\u001b[49m\u001b[43m(\u001b[49m\u001b[43marr\u001b[49m\u001b[43m,\u001b[49m\u001b[43m \u001b[49m\u001b[43mcolumns\u001b[49m\u001b[43m,\u001b[49m\u001b[43m \u001b[49m\u001b[43mdtype\u001b[49m\u001b[43m)\u001b[49m\n\u001b[1;32m    841\u001b[0m \u001b[38;5;28;01mreturn\u001b[39;00m content, columns\n",
      "File \u001b[0;32m/opt/homebrew/Cellar/jupyterlab/3.4.8_1/libexec/lib/python3.11/site-packages/pandas/core/internals/construction.py:937\u001b[0m, in \u001b[0;36m_finalize_columns_and_data\u001b[0;34m(content, columns, dtype)\u001b[0m\n\u001b[1;32m    934\u001b[0m     columns \u001b[38;5;241m=\u001b[39m _validate_or_indexify_columns(contents, columns)\n\u001b[1;32m    935\u001b[0m \u001b[38;5;28;01mexcept\u001b[39;00m \u001b[38;5;167;01mAssertionError\u001b[39;00m \u001b[38;5;28;01mas\u001b[39;00m err:\n\u001b[1;32m    936\u001b[0m     \u001b[38;5;66;03m# GH#26429 do not raise user-facing AssertionError\u001b[39;00m\n\u001b[0;32m--> 937\u001b[0m     \u001b[38;5;28;01mraise\u001b[39;00m \u001b[38;5;167;01mValueError\u001b[39;00m(err) \u001b[38;5;28;01mfrom\u001b[39;00m \u001b[38;5;21;01merr\u001b[39;00m\n\u001b[1;32m    939\u001b[0m \u001b[38;5;28;01mif\u001b[39;00m \u001b[38;5;28mlen\u001b[39m(contents) \u001b[38;5;129;01mand\u001b[39;00m contents[\u001b[38;5;241m0\u001b[39m]\u001b[38;5;241m.\u001b[39mdtype \u001b[38;5;241m==\u001b[39m np\u001b[38;5;241m.\u001b[39mobject_:\n\u001b[1;32m    940\u001b[0m     contents \u001b[38;5;241m=\u001b[39m convert_object_array(contents, dtype\u001b[38;5;241m=\u001b[39mdtype)\n",
      "\u001b[0;31mValueError\u001b[0m: 7 columns passed, passed data had 6 columns"
     ]
    }
   ],
   "source": [
    "# Create the DataFrame\n",
    "df = pd.DataFrame(answers_total, columns=header)\n",
    "\n",
    "# Print the DataFrame\n",
    "df"
   ]
  },
  {
   "cell_type": "code",
   "execution_count": null,
   "id": "ba0aec7f",
   "metadata": {},
   "outputs": [],
   "source": []
  }
 ],
 "metadata": {
  "kernelspec": {
   "display_name": "Python 3 (ipykernel)",
   "language": "python",
   "name": "python3"
  },
  "language_info": {
   "codemirror_mode": {
    "name": "ipython",
    "version": 3
   },
   "file_extension": ".py",
   "mimetype": "text/x-python",
   "name": "python",
   "nbconvert_exporter": "python",
   "pygments_lexer": "ipython3",
   "version": "3.11.1"
  }
 },
 "nbformat": 4,
 "nbformat_minor": 5
}
