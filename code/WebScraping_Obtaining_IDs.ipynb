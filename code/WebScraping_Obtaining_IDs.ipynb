{
 "cells": [
  {
   "cell_type": "markdown",
   "id": "9528a711",
   "metadata": {},
   "source": [
    "## Web Scraping \n",
    "\n",
    "https://consult.gov.scot/elections-and-constitutional-development-division/draft-referendum-bill/consultation/published_select_respondent"
   ]
  },
  {
   "cell_type": "markdown",
   "id": "b7f2c257",
   "metadata": {},
   "source": [
    "## Imports"
   ]
  },
  {
   "cell_type": "code",
   "execution_count": 73,
   "id": "6b975174",
   "metadata": {},
   "outputs": [],
   "source": [
    "# import sys\n",
    "# print(sys.executable)\n",
    "#! /opt/homebrew/Cellar/jupyterlab/3.4.8_1/libexec/bin/python3.11 -m pip install pandas"
   ]
  },
  {
   "cell_type": "code",
   "execution_count": 74,
   "id": "dc876716",
   "metadata": {},
   "outputs": [],
   "source": [
    "## Imports\n",
    "import requests\n",
    "from bs4 import BeautifulSoup\n",
    "import pandas as pd\n",
    "from math import ceil"
   ]
  },
  {
   "cell_type": "markdown",
   "id": "5d479216",
   "metadata": {},
   "source": [
    "## Parsing the URL of the Consultation on a Draft Referendum Bill "
   ]
  },
  {
   "cell_type": "code",
   "execution_count": 75,
   "id": "35972c61",
   "metadata": {},
   "outputs": [],
   "source": [
    "# URL of the webpage\n",
    "url = 'https://consult.gov.scot/elections-and-constitutional-development-division/draft-referendum-bill/consultation/published_select_respondent'\n",
    "\n",
    "# Send a GET request to the webpage\n",
    "response = requests.get(url)\n",
    "\n",
    "# Create a BeautifulSoup object to parse the HTML content\n",
    "soup = BeautifulSoup(response.content, 'html.parser')\n",
    "\n",
    "#print(soup)"
   ]
  },
  {
   "cell_type": "markdown",
   "id": "a6278bb7",
   "metadata": {},
   "source": [
    "### Obtatining the total Published Responses "
   ]
  },
  {
   "cell_type": "code",
   "execution_count": 76,
   "id": "931d7470",
   "metadata": {},
   "outputs": [
    {
     "name": "stdout",
     "output_type": "stream",
     "text": [
      "6806\n"
     ]
    }
   ],
   "source": [
    "\n",
    "\n",
    "li = soup.find('div', class_= \"col-xs-12 col-sm-9 col-sm-pull-3\")\n",
    "child = li.findChildren(\"h3\" , recursive=False)\n",
    "#print(child)\n",
    "total_resp=child[0].get_text().split()[0]\n",
    "print(total_resp)\n",
    "                            "
   ]
  },
  {
   "cell_type": "markdown",
   "id": "5f4317bf",
   "metadata": {},
   "source": [
    "## Obtaining URLS for each response"
   ]
  },
  {
   "cell_type": "code",
   "execution_count": 77,
   "id": "2eb66370",
   "metadata": {},
   "outputs": [
    {
     "name": "stdout",
     "output_type": "stream",
     "text": [
      "114\n"
     ]
    }
   ],
   "source": [
    "## Obtaining URLS for each response\n",
    "url_list=[]\n",
    "\n",
    "total_pages=ceil(int(total_resp)/60)\n",
    "print(total_pages)\n",
    "for i in range(0, total_pages):\n",
    "    if i == 0:\n",
    "        url = 'https://consult.gov.scot/elections-and-constitutional-development-division/draft-referendum-bill/consultation/published_select_respondent'\n",
    "        page =0\n",
    "    else:\n",
    "        page=page+60\n",
    "        url =\"https://consult.gov.scot/elections-and-constitutional-development-division/draft-referendum-bill/consultation/published_select_respondent?_b_index={}\".format(page)\n",
    "\n",
    "    url_list.append(url)    "
   ]
  },
  {
   "cell_type": "code",
   "execution_count": 78,
   "id": "401ee2e7",
   "metadata": {},
   "outputs": [
    {
     "data": {
      "text/plain": [
       "114"
      ]
     },
     "execution_count": 78,
     "metadata": {},
     "output_type": "execute_result"
    }
   ],
   "source": [
    "len(url_list)"
   ]
  },
  {
   "cell_type": "code",
   "execution_count": 81,
   "id": "9f41ef10",
   "metadata": {},
   "outputs": [],
   "source": [
    "textFile = open('../dataset/url_list.txt', 'w')\n",
    "\n",
    "for item in url_list:\n",
    "    textFile.write(str(item))\n",
    "\n",
    "textFile.close()"
   ]
  },
  {
   "cell_type": "code",
   "execution_count": null,
   "id": "1b0ad76a",
   "metadata": {},
   "outputs": [],
   "source": []
  }
 ],
 "metadata": {
  "kernelspec": {
   "display_name": "Python 3 (ipykernel)",
   "language": "python",
   "name": "python3"
  },
  "language_info": {
   "codemirror_mode": {
    "name": "ipython",
    "version": 3
   },
   "file_extension": ".py",
   "mimetype": "text/x-python",
   "name": "python",
   "nbconvert_exporter": "python",
   "pygments_lexer": "ipython3",
   "version": "3.11.1"
  }
 },
 "nbformat": 4,
 "nbformat_minor": 5
}
